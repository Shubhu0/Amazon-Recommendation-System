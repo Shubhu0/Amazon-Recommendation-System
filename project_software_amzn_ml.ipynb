{
 "cells": [
  {
   "cell_type": "code",
   "execution_count": 1,
   "id": "306554c9",
   "metadata": {},
   "outputs": [
    {
     "name": "stderr",
     "output_type": "stream",
     "text": [
      "WARNING: An illegal reflective access operation has occurred\n",
      "WARNING: Illegal reflective access by org.apache.spark.unsafe.Platform (file:/opt/conda/envs/bigdata/lib/python3.8/site-packages/pyspark/jars/spark-unsafe_2.12-3.2.1.jar) to constructor java.nio.DirectByteBuffer(long,int)\n",
      "WARNING: Please consider reporting this to the maintainers of org.apache.spark.unsafe.Platform\n",
      "WARNING: Use --illegal-access=warn to enable warnings of further illegal reflective access operations\n",
      "WARNING: All illegal access operations will be denied in a future release\n",
      "Using Spark's default log4j profile: org/apache/spark/log4j-defaults.properties\n",
      "Setting default log level to \"WARN\".\n",
      "To adjust logging level use sc.setLogLevel(newLevel). For SparkR, use setLogLevel(newLevel).\n",
      "22/05/17 19:15:53 WARN NativeCodeLoader: Unable to load native-hadoop library for your platform... using builtin-java classes where applicable\n",
      "/opt/conda/envs/bigdata/lib/python3.8/site-packages/pyspark/sql/context.py:125: FutureWarning: Deprecated in 3.0.0. Use SparkSession.builder.getOrCreate() instead.\n",
      "  warnings.warn(\n"
     ]
    }
   ],
   "source": [
    "import os\n",
    "import pyspark\n",
    "import re\n",
    "from pyspark.sql.functions import col, column, size\n",
    "from pyspark.sql.types import StringType, IntegerType\n",
    "\n",
    "\n",
    "conf = pyspark.SparkConf()\n",
    "\n",
    "conf.set('spark.ui.proxyBase', '/user/' + os.environ['JUPYTERHUB_USER'] + '/proxy/4041')\n",
    "conf.set('spark.sql.repl.eagerEval.enabled', True)\n",
    "conf.set('spark.driver.memory','8g')\n",
    "conf.set(\"spark.sql.caseSensitive\", \"true\")\n",
    "sc = pyspark.SparkContext(conf=conf)\n",
    "\n",
    "spark = pyspark.SQLContext.getOrCreate(sc)"
   ]
  },
  {
   "cell_type": "code",
   "execution_count": null,
   "id": "46bff4b8",
   "metadata": {},
   "outputs": [],
   "source": [
    "# Dataset: https://nijianmo.github.io/amazon/index.html\n",
    "# As we discussed this link has 2 types of data a subset version which has very few rows for each category.\n",
    "# There is no point of using these data.\n",
    "# It also has the normal dataset (Complete review data)\n",
    "# If you click on either the reviews or metadata links on any category \n",
    "# It will take you on a Google form if you complete it will \n",
    "# send you here http://deepyeti.ucsd.edu/jianmo/amazon/ \n",
    "# From here you can download any file for whatever category you want\n",
    "# No need, however, we can just download it straight to jupyter (see below)"
   ]
  },
  {
   "cell_type": "code",
   "execution_count": null,
   "id": "dd69a62a",
   "metadata": {},
   "outputs": [],
   "source": [
    "# If you download the same file many times it will just create copies in your home directory\n",
    "!wget http://deepyeti.ucsd.edu/jianmo/amazon/metaFiles2/meta_Software.json.gz\n",
    "!wget http://deepyeti.ucsd.edu/jianmo/amazon/categoryFiles/Software.json.gz"
   ]
  },
  {
   "cell_type": "markdown",
   "id": "5e5d4910",
   "metadata": {},
   "source": [
    "## Importing the Data"
   ]
  },
  {
   "cell_type": "code",
   "execution_count": 2,
   "id": "b302a87d",
   "metadata": {
    "scrolled": true
   },
   "outputs": [
    {
     "name": "stderr",
     "output_type": "stream",
     "text": [
      "22/05/17 19:16:12 WARN package: Truncated the string representation of a plan since it was too large. This behavior can be adjusted by setting 'spark.sql.debug.maxToStringFields'.\n",
      "                                                                                \r"
     ]
    }
   ],
   "source": [
    "products = spark.read.json(\"meta_Software.json.gz\")\n",
    "reviews = spark.read.json(\"Software.json.gz\")"
   ]
  },
  {
   "cell_type": "markdown",
   "id": "1d8d96fa",
   "metadata": {},
   "source": [
    "## Understanding the Data"
   ]
  },
  {
   "cell_type": "code",
   "execution_count": 3,
   "id": "7af83577",
   "metadata": {
    "scrolled": true
   },
   "outputs": [
    {
     "name": "stderr",
     "output_type": "stream",
     "text": [
      "                                                                                \r"
     ]
    },
    {
     "name": "stdout",
     "output_type": "stream",
     "text": [
      "(26790, 19)\n"
     ]
    },
    {
     "name": "stderr",
     "output_type": "stream",
     "text": [
      "[Stage 5:>                                                          (0 + 1) / 1]\r"
     ]
    },
    {
     "name": "stdout",
     "output_type": "stream",
     "text": [
      "(459436, 12)\n"
     ]
    },
    {
     "name": "stderr",
     "output_type": "stream",
     "text": [
      "                                                                                \r"
     ]
    }
   ],
   "source": [
    "print((products.count(), len(products.columns)))\n",
    "print((reviews.count(), len(reviews.columns)))"
   ]
  },
  {
   "cell_type": "code",
   "execution_count": 4,
   "id": "629989e7",
   "metadata": {},
   "outputs": [
    {
     "data": {
      "text/html": [
       "<table border='1'>\n",
       "<tr><th>also_buy</th><th>also_view</th><th>asin</th><th>brand</th><th>category</th><th>date</th><th>description</th><th>details</th><th>feature</th><th>fit</th><th>imageURL</th><th>imageURLHighRes</th><th>main_cat</th><th>price</th><th>rank</th><th>similar_item</th><th>tech1</th><th>tech2</th><th>title</th></tr>\n",
       "<tr><td>[]</td><td>[]</td><td>0030672120</td><td>HOLT. RINEHART AN...</td><td>[]</td><td>&lt;/div&gt;</td><td>[]</td><td>null</td><td>[]</td><td></td><td>[]</td><td>[]</td><td>Software</td><td>.a-box-inner{back...</td><td>25,550 in Software (</td><td></td><td></td><td></td><td>HOLT PHYSICS LESS...</td></tr>\n",
       "<tr><td>[]</td><td>[]</td><td>0071480935</td><td>McGraw Hill</td><td>[]</td><td>&lt;/div&gt;</td><td>[, &lt;b&gt;Latin rhyth...</td><td>null</td><td>[]</td><td></td><td>[https://images-n...</td><td>[https://images-n...</td><td>Software</td><td></td><td>15,792 in Software (</td><td></td><td></td><td></td><td>Sing, Watch, &amp;amp...</td></tr>\n",
       "<tr><td>[]</td><td>[]</td><td>007329506X</td><td>McGraw-Hill Scien...</td><td>[]</td><td>&lt;/div&gt;</td><td>[&lt;b&gt;Connect is th...</td><td>null</td><td>[]</td><td></td><td>[https://images-n...</td><td>[https://images-n...</td><td>Software</td><td></td><td>16,900 in Software (</td><td></td><td></td><td></td><td>Connect with Lear...</td></tr>\n",
       "<tr><td>[]</td><td>[]</td><td>0073513458</td><td>McGraw-Hill Educa...</td><td>[]</td><td>&lt;/div&gt;</td><td>[]</td><td>null</td><td>[]</td><td></td><td>[https://images-n...</td><td>[https://images-n...</td><td>Software</td><td></td><td>12,986 in Software (</td><td></td><td></td><td></td><td>LearnSmart Standa...</td></tr>\n",
       "<tr><td>[0323394612, 0323...</td><td>[]</td><td>0073525758</td><td>McGraw-Hill Educa...</td><td>[]</td><td>&lt;/div&gt;</td><td>[&lt;i&gt;Anatomy &amp;amp;...</td><td>null</td><td>[]</td><td></td><td>[https://images-n...</td><td>[https://images-n...</td><td>Software</td><td>$4.83</td><td>14,861 in Software (</td><td></td><td></td><td></td><td>Anatomy &amp;amp; Phy...</td></tr>\n",
       "</table>\n"
      ],
      "text/plain": [
       "+--------------------+---------+----------+--------------------+--------+------+--------------------+-------+-------+---+--------------------+--------------------+--------+--------------------+--------------------+------------+-----+-----+--------------------+\n",
       "|            also_buy|also_view|      asin|               brand|category|  date|         description|details|feature|fit|            imageURL|     imageURLHighRes|main_cat|               price|                rank|similar_item|tech1|tech2|               title|\n",
       "+--------------------+---------+----------+--------------------+--------+------+--------------------+-------+-------+---+--------------------+--------------------+--------+--------------------+--------------------+------------+-----+-----+--------------------+\n",
       "|                  []|       []|0030672120|HOLT. RINEHART AN...|      []|</div>|                  []|   null|     []|   |                  []|                  []|Software|.a-box-inner{back...|25,550 in Software (|            |     |     |HOLT PHYSICS LESS...|\n",
       "|                  []|       []|0071480935|         McGraw Hill|      []|</div>|[, <b>Latin rhyth...|   null|     []|   |[https://images-n...|[https://images-n...|Software|                    |15,792 in Software (|            |     |     |Sing, Watch, &amp...|\n",
       "|                  []|       []|007329506X|McGraw-Hill Scien...|      []|</div>|[<b>Connect is th...|   null|     []|   |[https://images-n...|[https://images-n...|Software|                    |16,900 in Software (|            |     |     |Connect with Lear...|\n",
       "|                  []|       []|0073513458|McGraw-Hill Educa...|      []|</div>|                  []|   null|     []|   |[https://images-n...|[https://images-n...|Software|                    |12,986 in Software (|            |     |     |LearnSmart Standa...|\n",
       "|[0323394612, 0323...|       []|0073525758|McGraw-Hill Educa...|      []|</div>|[<i>Anatomy &amp;...|   null|     []|   |[https://images-n...|[https://images-n...|Software|               $4.83|14,861 in Software (|            |     |     |Anatomy &amp; Phy...|\n",
       "+--------------------+---------+----------+--------------------+--------+------+--------------------+-------+-------+---+--------------------+--------------------+--------+--------------------+--------------------+------------+-----+-----+--------------------+"
      ]
     },
     "execution_count": 4,
     "metadata": {},
     "output_type": "execute_result"
    }
   ],
   "source": [
    "products.limit(5)"
   ]
  },
  {
   "cell_type": "code",
   "execution_count": 5,
   "id": "c3e7f4b7",
   "metadata": {
    "scrolled": true
   },
   "outputs": [
    {
     "data": {
      "text/html": [
       "<table border='1'>\n",
       "<tr><th>asin</th><th>image</th><th>overall</th><th>reviewText</th><th>reviewTime</th><th>reviewerID</th><th>reviewerName</th><th>style</th><th>summary</th><th>unixReviewTime</th><th>verified</th><th>vote</th></tr>\n",
       "<tr><td>0077613252</td><td>null</td><td>4.0</td><td>The materials arr...</td><td>03 11, 2014</td><td>A240ORQ2LF9LUI</td><td>Michelle W</td><td>{null,  Loose Lea...</td><td>Material Great</td><td>1394496000</td><td>true</td><td>null</td></tr>\n",
       "<tr><td>0077613252</td><td>null</td><td>4.0</td><td>I am really enjoy...</td><td>02 23, 2014</td><td>A1YCCU0YRLS0FE</td><td>Rosalind White Ames</td><td>{null,  Loose Lea...</td><td>Health</td><td>1393113600</td><td>true</td><td>null</td></tr>\n",
       "<tr><td>0077613252</td><td>null</td><td>1.0</td><td>IF YOU ARE TAKING...</td><td>02 17, 2014</td><td>A1BJHRQDYVAY2J</td><td>Allan R. Baker</td><td>{null,  Loose Lea...</td><td>ARE YOU KIDING ME?</td><td>1392595200</td><td>true</td><td>7</td></tr>\n",
       "<tr><td>0077613252</td><td>null</td><td>3.0</td><td>This book was mis...</td><td>02 17, 2014</td><td>APRDVZ6QBIQXT</td><td>Lucy</td><td>{null,  Loose Lea...</td><td>missing pages!!</td><td>1392595200</td><td>true</td><td>3</td></tr>\n",
       "<tr><td>0077775473</td><td>null</td><td>5.0</td><td>I have used Learn...</td><td>10 14, 2013</td><td>A2JZTTBSLS1QXV</td><td>Albert V.</td><td>null</td><td>Best study produc...</td><td>1381708800</td><td>false</td><td>null</td></tr>\n",
       "</table>\n"
      ],
      "text/plain": [
       "+----------+-----+-------+--------------------+-----------+--------------+-------------------+--------------------+--------------------+--------------+--------+----+\n",
       "|      asin|image|overall|          reviewText| reviewTime|    reviewerID|       reviewerName|               style|             summary|unixReviewTime|verified|vote|\n",
       "+----------+-----+-------+--------------------+-----------+--------------+-------------------+--------------------+--------------------+--------------+--------+----+\n",
       "|0077613252| null|    4.0|The materials arr...|03 11, 2014|A240ORQ2LF9LUI|         Michelle W|{null,  Loose Lea...|      Material Great|    1394496000|    true|null|\n",
       "|0077613252| null|    4.0|I am really enjoy...|02 23, 2014|A1YCCU0YRLS0FE|Rosalind White Ames|{null,  Loose Lea...|              Health|    1393113600|    true|null|\n",
       "|0077613252| null|    1.0|IF YOU ARE TAKING...|02 17, 2014|A1BJHRQDYVAY2J|     Allan R. Baker|{null,  Loose Lea...|  ARE YOU KIDING ME?|    1392595200|    true|   7|\n",
       "|0077613252| null|    3.0|This book was mis...|02 17, 2014| APRDVZ6QBIQXT|               Lucy|{null,  Loose Lea...|     missing pages!!|    1392595200|    true|   3|\n",
       "|0077775473| null|    5.0|I have used Learn...|10 14, 2013|A2JZTTBSLS1QXV|          Albert V.|                null|Best study produc...|    1381708800|   false|null|\n",
       "+----------+-----+-------+--------------------+-----------+--------------+-------------------+--------------------+--------------------+--------------+--------+----+"
      ]
     },
     "execution_count": 5,
     "metadata": {},
     "output_type": "execute_result"
    }
   ],
   "source": [
    "reviews.limit(5)"
   ]
  },
  {
   "cell_type": "code",
   "execution_count": 6,
   "id": "9fb28f69",
   "metadata": {
    "scrolled": true
   },
   "outputs": [
    {
     "name": "stderr",
     "output_type": "stream",
     "text": [
      "                                                                                \r"
     ]
    },
    {
     "data": {
      "text/html": [
       "<div>\n",
       "<style scoped>\n",
       "    .dataframe tbody tr th:only-of-type {\n",
       "        vertical-align: middle;\n",
       "    }\n",
       "\n",
       "    .dataframe tbody tr th {\n",
       "        vertical-align: top;\n",
       "    }\n",
       "\n",
       "    .dataframe thead th {\n",
       "        text-align: right;\n",
       "    }\n",
       "</style>\n",
       "<table border=\"1\" class=\"dataframe\">\n",
       "  <thead>\n",
       "    <tr style=\"text-align: right;\">\n",
       "      <th></th>\n",
       "      <th>summary</th>\n",
       "      <th>asin</th>\n",
       "      <th>overall</th>\n",
       "      <th>reviewText</th>\n",
       "      <th>reviewTime</th>\n",
       "      <th>reviewerID</th>\n",
       "      <th>reviewerName</th>\n",
       "      <th>summary</th>\n",
       "      <th>unixReviewTime</th>\n",
       "      <th>vote</th>\n",
       "    </tr>\n",
       "  </thead>\n",
       "  <tbody>\n",
       "    <tr>\n",
       "      <th>0</th>\n",
       "      <td>count</td>\n",
       "      <td>459436</td>\n",
       "      <td>459436</td>\n",
       "      <td>459370</td>\n",
       "      <td>459436</td>\n",
       "      <td>459436</td>\n",
       "      <td>459412</td>\n",
       "      <td>459380</td>\n",
       "      <td>459436</td>\n",
       "      <td>127853</td>\n",
       "    </tr>\n",
       "    <tr>\n",
       "      <th>1</th>\n",
       "      <td>mean</td>\n",
       "      <td>1.6536614548992403E9</td>\n",
       "      <td>3.5701751712969814</td>\n",
       "      <td>1.619047619047619</td>\n",
       "      <td>None</td>\n",
       "      <td>None</td>\n",
       "      <td>NaN</td>\n",
       "      <td>1684.151219512195</td>\n",
       "      <td>1.369690838436692E9</td>\n",
       "      <td>10.399738727744923</td>\n",
       "    </tr>\n",
       "    <tr>\n",
       "      <th>2</th>\n",
       "      <td>stddev</td>\n",
       "      <td>1.403284353677117E9</td>\n",
       "      <td>1.6266620188688528</td>\n",
       "      <td>2.108937895628756</td>\n",
       "      <td>None</td>\n",
       "      <td>None</td>\n",
       "      <td>NaN</td>\n",
       "      <td>3680.707733175914</td>\n",
       "      <td>1.150168095078268E8</td>\n",
       "      <td>26.291150782486987</td>\n",
       "    </tr>\n",
       "    <tr>\n",
       "      <th>3</th>\n",
       "      <td>min</td>\n",
       "      <td>0030672120</td>\n",
       "      <td>1.0</td>\n",
       "      <td>\\n\\nAs a loyal Quicken user since 1997, and on...</td>\n",
       "      <td>01 1, 2000</td>\n",
       "      <td>A00577669P2XCLU956L8</td>\n",
       "      <td></td>\n",
       "      <td></td>\n",
       "      <td>912729600</td>\n",
       "      <td>1,028</td>\n",
       "    </tr>\n",
       "    <tr>\n",
       "      <th>4</th>\n",
       "      <td>max</td>\n",
       "      <td>B01HJAMWOK</td>\n",
       "      <td>5.0</td>\n",
       "      <td>~~~~~~~~~~~~~~~~~~~~~~~~~~~~~~~~~~~~~~~~~~~~~~...</td>\n",
       "      <td>12 9, 2017</td>\n",
       "      <td>AZZYX9XK6MC8S</td>\n",
       "      <td>~me</td>\n",
       "      <td>~~~~~~~~~~~~~~~~  TT Makes a Taxing Experience...</td>\n",
       "      <td>1538438400</td>\n",
       "      <td>999</td>\n",
       "    </tr>\n",
       "  </tbody>\n",
       "</table>\n",
       "</div>"
      ],
      "text/plain": [
       "  summary                  asin             overall  \\\n",
       "0   count                459436              459436   \n",
       "1    mean  1.6536614548992403E9  3.5701751712969814   \n",
       "2  stddev   1.403284353677117E9  1.6266620188688528   \n",
       "3     min            0030672120                 1.0   \n",
       "4     max            B01HJAMWOK                 5.0   \n",
       "\n",
       "                                          reviewText  reviewTime  \\\n",
       "0                                             459370      459436   \n",
       "1                                  1.619047619047619        None   \n",
       "2                                  2.108937895628756        None   \n",
       "3  \\n\\nAs a loyal Quicken user since 1997, and on...  01 1, 2000   \n",
       "4  ~~~~~~~~~~~~~~~~~~~~~~~~~~~~~~~~~~~~~~~~~~~~~~...  12 9, 2017   \n",
       "\n",
       "             reviewerID reviewerName  \\\n",
       "0                459436       459412   \n",
       "1                  None          NaN   \n",
       "2                  None          NaN   \n",
       "3  A00577669P2XCLU956L8                \n",
       "4         AZZYX9XK6MC8S          ~me   \n",
       "\n",
       "                                             summary       unixReviewTime  \\\n",
       "0                                             459380               459436   \n",
       "1                                  1684.151219512195  1.369690838436692E9   \n",
       "2                                  3680.707733175914  1.150168095078268E8   \n",
       "3                                                               912729600   \n",
       "4  ~~~~~~~~~~~~~~~~  TT Makes a Taxing Experience...           1538438400   \n",
       "\n",
       "                 vote  \n",
       "0              127853  \n",
       "1  10.399738727744923  \n",
       "2  26.291150782486987  \n",
       "3               1,028  \n",
       "4                 999  "
      ]
     },
     "execution_count": 6,
     "metadata": {},
     "output_type": "execute_result"
    }
   ],
   "source": [
    "reviews.describe().toPandas()"
   ]
  },
  {
   "cell_type": "code",
   "execution_count": 7,
   "id": "9732ee97",
   "metadata": {},
   "outputs": [
    {
     "name": "stderr",
     "output_type": "stream",
     "text": [
      "                                                                                \r"
     ]
    },
    {
     "data": {
      "text/html": [
       "<div>\n",
       "<style scoped>\n",
       "    .dataframe tbody tr th:only-of-type {\n",
       "        vertical-align: middle;\n",
       "    }\n",
       "\n",
       "    .dataframe tbody tr th {\n",
       "        vertical-align: top;\n",
       "    }\n",
       "\n",
       "    .dataframe thead th {\n",
       "        text-align: right;\n",
       "    }\n",
       "</style>\n",
       "<table border=\"1\" class=\"dataframe\">\n",
       "  <thead>\n",
       "    <tr style=\"text-align: right;\">\n",
       "      <th></th>\n",
       "      <th>summary</th>\n",
       "      <th>asin</th>\n",
       "      <th>brand</th>\n",
       "      <th>date</th>\n",
       "      <th>fit</th>\n",
       "      <th>main_cat</th>\n",
       "      <th>price</th>\n",
       "      <th>rank</th>\n",
       "      <th>similar_item</th>\n",
       "      <th>tech1</th>\n",
       "      <th>tech2</th>\n",
       "      <th>title</th>\n",
       "    </tr>\n",
       "  </thead>\n",
       "  <tbody>\n",
       "    <tr>\n",
       "      <th>0</th>\n",
       "      <td>count</td>\n",
       "      <td>26790</td>\n",
       "      <td>26790</td>\n",
       "      <td>26790</td>\n",
       "      <td>26790</td>\n",
       "      <td>26790</td>\n",
       "      <td>26790</td>\n",
       "      <td>26790</td>\n",
       "      <td>26790</td>\n",
       "      <td>26790</td>\n",
       "      <td>26790</td>\n",
       "      <td>26790</td>\n",
       "    </tr>\n",
       "    <tr>\n",
       "      <th>1</th>\n",
       "      <td>mean</td>\n",
       "      <td>1.867807794974587E9</td>\n",
       "      <td>1239382.02</td>\n",
       "      <td>None</td>\n",
       "      <td>None</td>\n",
       "      <td>None</td>\n",
       "      <td>None</td>\n",
       "      <td>None</td>\n",
       "      <td>None</td>\n",
       "      <td>None</td>\n",
       "      <td>None</td>\n",
       "      <td>11.0</td>\n",
       "    </tr>\n",
       "    <tr>\n",
       "      <th>2</th>\n",
       "      <td>stddev</td>\n",
       "      <td>1.7691138798705487E9</td>\n",
       "      <td>3559614.7783461586</td>\n",
       "      <td>None</td>\n",
       "      <td>None</td>\n",
       "      <td>None</td>\n",
       "      <td>None</td>\n",
       "      <td>None</td>\n",
       "      <td>None</td>\n",
       "      <td>None</td>\n",
       "      <td>None</td>\n",
       "      <td>None</td>\n",
       "    </tr>\n",
       "    <tr>\n",
       "      <th>3</th>\n",
       "      <td>min</td>\n",
       "      <td>0030672120</td>\n",
       "      <td></td>\n",
       "      <td></td>\n",
       "      <td></td>\n",
       "      <td></td>\n",
       "      <td></td>\n",
       "      <td>1,001 in Software (</td>\n",
       "      <td></td>\n",
       "      <td></td>\n",
       "      <td></td>\n",
       "      <td></td>\n",
       "    </tr>\n",
       "    <tr>\n",
       "      <th>4</th>\n",
       "      <td>max</td>\n",
       "      <td>B01HJAMWOK</td>\n",
       "      <td>yudu</td>\n",
       "      <td>TheMarketingPlanResource</td>\n",
       "      <td></td>\n",
       "      <td>Video Games</td>\n",
       "      <td>.a-section.a-spacing-mini{margin-bottom:6px!im...</td>\n",
       "      <td>[]</td>\n",
       "      <td>class=\"a-bordered a-horizontal-stripes  a-spa...</td>\n",
       "      <td>class=\"a-keyvalue prodDetTable\" role=\"present...</td>\n",
       "      <td>class=\"a-keyvalue prodDetTable\" role=\"present...</td>\n",
       "      <td>yudu CardShop Screen, Filigree Frame</td>\n",
       "    </tr>\n",
       "  </tbody>\n",
       "</table>\n",
       "</div>"
      ],
      "text/plain": [
       "  summary                  asin               brand                      date  \\\n",
       "0   count                 26790               26790                     26790   \n",
       "1    mean   1.867807794974587E9          1239382.02                      None   \n",
       "2  stddev  1.7691138798705487E9  3559614.7783461586                      None   \n",
       "3     min            0030672120                                                 \n",
       "4     max            B01HJAMWOK                yudu  TheMarketingPlanResource   \n",
       "\n",
       "     fit     main_cat                                              price  \\\n",
       "0  26790        26790                                              26790   \n",
       "1   None         None                                               None   \n",
       "2   None         None                                               None   \n",
       "3                                                                          \n",
       "4         Video Games  .a-section.a-spacing-mini{margin-bottom:6px!im...   \n",
       "\n",
       "                  rank                                       similar_item  \\\n",
       "0                26790                                              26790   \n",
       "1                 None                                               None   \n",
       "2                 None                                               None   \n",
       "3  1,001 in Software (                                                      \n",
       "4                   []   class=\"a-bordered a-horizontal-stripes  a-spa...   \n",
       "\n",
       "                                               tech1  \\\n",
       "0                                              26790   \n",
       "1                                               None   \n",
       "2                                               None   \n",
       "3                                                      \n",
       "4   class=\"a-keyvalue prodDetTable\" role=\"present...   \n",
       "\n",
       "                                               tech2  \\\n",
       "0                                              26790   \n",
       "1                                               None   \n",
       "2                                               None   \n",
       "3                                                      \n",
       "4   class=\"a-keyvalue prodDetTable\" role=\"present...   \n",
       "\n",
       "                                  title  \n",
       "0                                 26790  \n",
       "1                                  11.0  \n",
       "2                                  None  \n",
       "3                                        \n",
       "4  yudu CardShop Screen, Filigree Frame  "
      ]
     },
     "execution_count": 7,
     "metadata": {},
     "output_type": "execute_result"
    }
   ],
   "source": [
    "products.describe().toPandas()"
   ]
  },
  {
   "cell_type": "markdown",
   "id": "14d42069",
   "metadata": {},
   "source": [
    "## understanding the data schema"
   ]
  },
  {
   "cell_type": "code",
   "execution_count": 8,
   "id": "26bee3ad",
   "metadata": {
    "scrolled": true
   },
   "outputs": [
    {
     "name": "stdout",
     "output_type": "stream",
     "text": [
      "root\n",
      " |-- also_buy: array (nullable = true)\n",
      " |    |-- element: string (containsNull = true)\n",
      " |-- also_view: array (nullable = true)\n",
      " |    |-- element: string (containsNull = true)\n",
      " |-- asin: string (nullable = true)\n",
      " |-- brand: string (nullable = true)\n",
      " |-- category: array (nullable = true)\n",
      " |    |-- element: string (containsNull = true)\n",
      " |-- date: string (nullable = true)\n",
      " |-- description: array (nullable = true)\n",
      " |    |-- element: string (containsNull = true)\n",
      " |-- details: struct (nullable = true)\n",
      " |    |-- \\n    Item Weight: \\n    : string (nullable = true)\n",
      " |    |-- \\n    Package Dimensions: \\n    : string (nullable = true)\n",
      " |    |-- \\n    Product Dimensions: \\n    : string (nullable = true)\n",
      " |    |--  Date first listed on Amazon:: string (nullable = true)\n",
      " |    |-- ASIN:: string (nullable = true)\n",
      " |    |-- ASIN: : string (nullable = true)\n",
      " |    |-- Audio CD: string (nullable = true)\n",
      " |    |-- Audio CD:: string (nullable = true)\n",
      " |    |-- Batteries: string (nullable = true)\n",
      " |    |-- CD-ROM:: string (nullable = true)\n",
      " |    |-- Discontinued by manufacturer:: string (nullable = true)\n",
      " |    |-- Domestic Shipping: : string (nullable = true)\n",
      " |    |-- Downloading:: string (nullable = true)\n",
      " |    |-- Dubbed:: string (nullable = true)\n",
      " |    |-- ISBN-10:: string (nullable = true)\n",
      " |    |-- ISBN-13:: string (nullable = true)\n",
      " |    |-- International Shipping: : string (nullable = true)\n",
      " |    |-- Item model number:: string (nullable = true)\n",
      " |    |-- Label:: string (nullable = true)\n",
      " |    |-- Language:: string (nullable = true)\n",
      " |    |-- Mass Market Paperback:: string (nullable = true)\n",
      " |    |-- Note:: string (nullable = true)\n",
      " |    |-- Number of Discs:: string (nullable = true)\n",
      " |    |-- Online Code:: string (nullable = true)\n",
      " |    |-- Online Map Code:: string (nullable = true)\n",
      " |    |-- Paperback:: string (nullable = true)\n",
      " |    |-- Program Type:: string (nullable = true)\n",
      " |    |-- Publisher:: string (nullable = true)\n",
      " |    |-- Run Time:: string (nullable = true)\n",
      " |    |-- Series:: string (nullable = true)\n",
      " |    |-- Shipping Weight:: string (nullable = true)\n",
      " |    |-- Spiral-bound:: string (nullable = true)\n",
      " |    |-- Subtitles for the Hearing Impaired:: string (nullable = true)\n",
      " |    |-- Subtitles:: string (nullable = true)\n",
      " |    |-- UPC:: string (nullable = true)\n",
      " |-- feature: array (nullable = true)\n",
      " |    |-- element: string (containsNull = true)\n",
      " |-- fit: string (nullable = true)\n",
      " |-- imageURL: array (nullable = true)\n",
      " |    |-- element: string (containsNull = true)\n",
      " |-- imageURLHighRes: array (nullable = true)\n",
      " |    |-- element: string (containsNull = true)\n",
      " |-- main_cat: string (nullable = true)\n",
      " |-- price: string (nullable = true)\n",
      " |-- rank: string (nullable = true)\n",
      " |-- similar_item: string (nullable = true)\n",
      " |-- tech1: string (nullable = true)\n",
      " |-- tech2: string (nullable = true)\n",
      " |-- title: string (nullable = true)\n",
      "\n"
     ]
    }
   ],
   "source": [
    "products.printSchema()"
   ]
  },
  {
   "cell_type": "code",
   "execution_count": 9,
   "id": "60365c52",
   "metadata": {},
   "outputs": [
    {
     "name": "stdout",
     "output_type": "stream",
     "text": [
      "root\n",
      " |-- asin: string (nullable = true)\n",
      " |-- image: array (nullable = true)\n",
      " |    |-- element: string (containsNull = true)\n",
      " |-- overall: double (nullable = true)\n",
      " |-- reviewText: string (nullable = true)\n",
      " |-- reviewTime: string (nullable = true)\n",
      " |-- reviewerID: string (nullable = true)\n",
      " |-- reviewerName: string (nullable = true)\n",
      " |-- style: struct (nullable = true)\n",
      " |    |-- Color:: string (nullable = true)\n",
      " |    |-- Format:: string (nullable = true)\n",
      " |    |-- Hardware Platform:: string (nullable = true)\n",
      " |    |-- Item Package Quantity:: string (nullable = true)\n",
      " |    |-- Model Number:: string (nullable = true)\n",
      " |    |-- Package Quantity:: string (nullable = true)\n",
      " |    |-- Package Type:: string (nullable = true)\n",
      " |    |-- Platform:: string (nullable = true)\n",
      " |    |-- Product Packaging:: string (nullable = true)\n",
      " |    |-- Size:: string (nullable = true)\n",
      " |    |-- Style Name:: string (nullable = true)\n",
      " |    |-- Style:: string (nullable = true)\n",
      " |    |-- style:: string (nullable = true)\n",
      " |-- summary: string (nullable = true)\n",
      " |-- unixReviewTime: long (nullable = true)\n",
      " |-- verified: boolean (nullable = true)\n",
      " |-- vote: string (nullable = true)\n",
      "\n"
     ]
    }
   ],
   "source": [
    "reviews.printSchema()"
   ]
  },
  {
   "cell_type": "markdown",
   "id": "0b8f527a",
   "metadata": {},
   "source": [
    "## Cleaning the data"
   ]
  },
  {
   "cell_type": "code",
   "execution_count": 10,
   "id": "fde9fd91",
   "metadata": {},
   "outputs": [],
   "source": [
    "# Filter products that have values for category and feature columns as these will be used for content based filtering\n",
    "products = products.where(size('category') > 0).where(size('feature') > 0)"
   ]
  },
  {
   "cell_type": "code",
   "execution_count": 11,
   "id": "21cd754b",
   "metadata": {},
   "outputs": [],
   "source": [
    "# Only keep reviews for products that exits in the products dataframe\n",
    "reviews = reviews.join(products, reviews[\"asin\"] == products[\"asin\"],\"leftsemi\")"
   ]
  },
  {
   "cell_type": "code",
   "execution_count": 12,
   "id": "8c79ae4f",
   "metadata": {},
   "outputs": [],
   "source": [
    "# Remove Duplicate columns in both dataframes\n",
    "reviews = reviews.dropDuplicates([\"asin\",\"reviewerID\"])\n",
    "products = products.dropDuplicates([\"asin\"])"
   ]
  },
  {
   "cell_type": "code",
   "execution_count": 13,
   "id": "64a917dc",
   "metadata": {},
   "outputs": [],
   "source": [
    "# Keep the columns we want, and some renaming\n",
    "products = products.drop(\"also_buy\", \"also_view\",\"brand\", \"date\",\"details\",\"fit\",\"imageURL\",\"imageURLHighRes\",\"rank\",\"similar_item\",\"tech1\",\"tech2\")\n",
    "\n",
    "reviews = reviews.drop(\"image\", \"reviewTime\",\"reviewText\", \"style\",\"summary\",\"unixReviewTime\",\"verified\",\"vote\")"
   ]
  },
  {
   "cell_type": "code",
   "execution_count": 14,
   "id": "0f6269c9",
   "metadata": {},
   "outputs": [],
   "source": [
    "products = products.withColumnRenamed(\"asin\",\"productID\")\\\n",
    "    .withColumnRenamed(\"main_cat\",\"main_category\")\\\n",
    "    .withColumnRenamed(\"title\",\"productName\")\\\n",
    "    .withColumnRenamed(\"category\",\"categories\")\n",
    "\n",
    "reviews = reviews.withColumnRenamed(\"asin\",\"productID\")\\\n",
    "    .withColumnRenamed(\"reviewerID\",\"userID\")"
   ]
  },
  {
   "cell_type": "code",
   "execution_count": 15,
   "id": "10bebe33",
   "metadata": {},
   "outputs": [
    {
     "name": "stderr",
     "output_type": "stream",
     "text": [
      "                                                                                \r"
     ]
    }
   ],
   "source": [
    "# userID and productID have to be integers in order for collaboration filtering to work\n",
    "# simple cast to integer from string will not work as userID and productID contain alphanumeric characters.\n",
    "# I know productID seems like it is only numbers but deep in the df there are rows with letters\n",
    "# therefore we are using StringIndexer to create unique int ids for both\n",
    "\n",
    "# userID transformation\n",
    "from pyspark.ml.feature import StringIndexer\n",
    "\n",
    "indexer = StringIndexer(inputCol=\"userID\", outputCol=\"intUserID\")\n",
    "reviews = indexer.fit(reviews).transform(reviews)\n",
    "\n",
    "# cast from double to int\n",
    "reviews = reviews.withColumn(\"intUserID\",reviews['intUserID'].cast(IntegerType()))"
   ]
  },
  {
   "cell_type": "code",
   "execution_count": 16,
   "id": "27ea73f6",
   "metadata": {},
   "outputs": [
    {
     "name": "stderr",
     "output_type": "stream",
     "text": [
      "                                                                                \r"
     ]
    }
   ],
   "source": [
    "# for productID tranformation the trick is to train the model with products dataframe\n",
    "# then fit to both products and reviews\n",
    "indexer = StringIndexer(inputCol=\"productID\", outputCol=\"intProductID\")\n",
    "i = indexer.fit(products)\n",
    "\n",
    "products = i.transform(products)\n",
    "reviews = i.transform(reviews)\n",
    "\n",
    "# cast from double to int\n",
    "products = products.withColumn(\"intProductID\",products['intProductID'].cast(IntegerType()))\n",
    "reviews = reviews.withColumn(\"intProductID\",reviews['intProductID'].cast(IntegerType()))"
   ]
  },
  {
   "cell_type": "code",
   "execution_count": 17,
   "id": "f40ccd6e",
   "metadata": {},
   "outputs": [],
   "source": [
    "# Overall also has to be an integer but this can be done with a simple cast\n",
    "reviews = reviews.withColumn(\"overall\",reviews['overall'].cast(IntegerType()))"
   ]
  },
  {
   "cell_type": "code",
   "execution_count": 18,
   "id": "b01311fc",
   "metadata": {
    "scrolled": true
   },
   "outputs": [
    {
     "name": "stderr",
     "output_type": "stream",
     "text": [
      "[Stage 39:>                                                         (0 + 1) / 1]\r"
     ]
    },
    {
     "name": "stdout",
     "output_type": "stream",
     "text": [
      "+----------+--------------------+--------------------+--------------------+-------------+-----+--------------------+------------+\n",
      "| productID|          categories|         description|             feature|main_category|price|         productName|intProductID|\n",
      "+----------+--------------------+--------------------+--------------------+-------------+-----+--------------------+------------+\n",
      "|0205064833|[Software, Progra...|[System Requireme...|[SAME FUNCTIONALI...|     Software|     |Microsoft FrontPa...|           1|\n",
      "|031025888X|[Software, Educat...|[Powered by Pradi...|[Guided Tour of t...|     Software|     |NIV Student Bible...|           2|\n",
      "|0310258928|[Software, Educat...|[Powered by Pradi...|[Unlimited space ...|     Software|     |The Zondervan NIV...|           3|\n",
      "|0321506847|[Software, Busine...|                  []|[Microsoft Excel ...|     Software|     |Instructor's Reso...|           4|\n",
      "+----------+--------------------+--------------------+--------------------+-------------+-----+--------------------+------------+\n",
      "only showing top 4 rows\n",
      "\n"
     ]
    },
    {
     "name": "stderr",
     "output_type": "stream",
     "text": [
      "                                                                                \r"
     ]
    }
   ],
   "source": [
    "products.show(4)"
   ]
  },
  {
   "cell_type": "code",
   "execution_count": 19,
   "id": "a1534379",
   "metadata": {},
   "outputs": [
    {
     "name": "stdout",
     "output_type": "stream",
     "text": [
      "root\n",
      " |-- productID: string (nullable = true)\n",
      " |-- categories: array (nullable = true)\n",
      " |    |-- element: string (containsNull = true)\n",
      " |-- description: array (nullable = true)\n",
      " |    |-- element: string (containsNull = true)\n",
      " |-- feature: array (nullable = true)\n",
      " |    |-- element: string (containsNull = true)\n",
      " |-- main_category: string (nullable = true)\n",
      " |-- price: string (nullable = true)\n",
      " |-- productName: string (nullable = true)\n",
      " |-- intProductID: integer (nullable = true)\n",
      "\n"
     ]
    }
   ],
   "source": [
    "products.printSchema()"
   ]
  },
  {
   "cell_type": "code",
   "execution_count": 20,
   "id": "9737efd7",
   "metadata": {
    "scrolled": false
   },
   "outputs": [
    {
     "name": "stderr",
     "output_type": "stream",
     "text": [
      "22/05/17 19:17:31 WARN DAGScheduler: Broadcasting large task binary with size 11.6 MiB\n",
      "[Stage 45:>                                                         (0 + 1) / 1]\r"
     ]
    },
    {
     "name": "stdout",
     "output_type": "stream",
     "text": [
      "+----------+-------+--------------+--------------------+---------+------------+\n",
      "| productID|overall|        userID|        reviewerName|intUserID|intProductID|\n",
      "+----------+-------+--------------+--------------------+---------+------------+\n",
      "|0131817949|      3|A2RETZJEDJB3GK| SJC History Teacher|   170618|           0|\n",
      "|031025888X|      5|A1GQH2MCHKD4WG|Jolene A. Sagstetter|    71355|           2|\n",
      "+----------+-------+--------------+--------------------+---------+------------+\n",
      "only showing top 2 rows\n",
      "\n"
     ]
    },
    {
     "name": "stderr",
     "output_type": "stream",
     "text": [
      "                                                                                \r"
     ]
    }
   ],
   "source": [
    "reviews.show(2)"
   ]
  },
  {
   "cell_type": "code",
   "execution_count": 21,
   "id": "0dc9aef0",
   "metadata": {},
   "outputs": [
    {
     "name": "stdout",
     "output_type": "stream",
     "text": [
      "root\n",
      " |-- productID: string (nullable = true)\n",
      " |-- overall: integer (nullable = true)\n",
      " |-- userID: string (nullable = true)\n",
      " |-- reviewerName: string (nullable = true)\n",
      " |-- intUserID: integer (nullable = true)\n",
      " |-- intProductID: integer (nullable = true)\n",
      "\n"
     ]
    }
   ],
   "source": [
    "reviews.printSchema()"
   ]
  },
  {
   "cell_type": "markdown",
   "id": "620938a5",
   "metadata": {},
   "source": [
    "## Plotting Ratings v Count"
   ]
  },
  {
   "cell_type": "code",
   "execution_count": 22,
   "id": "932b0782",
   "metadata": {},
   "outputs": [
    {
     "name": "stderr",
     "output_type": "stream",
     "text": [
      "/opt/conda/envs/bigdata/lib/python3.8/site-packages/seaborn/_decorators.py:36: FutureWarning: Pass the following variable as a keyword arg: x. From version 0.12, the only valid positional argument will be `data`, and passing other arguments without an explicit keyword will result in an error or misinterpretation.\n",
      "  warnings.warn(\n"
     ]
    },
    {
     "data": {
      "text/plain": [
       "<matplotlib.axes._subplots.AxesSubplot at 0x7f06e5513af0>"
      ]
     },
     "execution_count": 22,
     "metadata": {},
     "output_type": "execute_result"
    },
    {
     "data": {
      "image/png": "[encoded data removed]",
      "text/plain": [
       "<Figure size 432x288 with 1 Axes>"
      ]
     },
     "metadata": {
      "needs_background": "light"
     },
     "output_type": "display_data"
    }
   ],
   "source": [
    "import seaborn as sns\n",
    "\n",
    "#grouping data based on ratings(overall) and productID\n",
    "\n",
    "temp_df=reviews.groupBy('overall', 'productID').count().toPandas()\n",
    "temp_df.head(4)\n",
    "\n",
    "sns.countplot('overall', data=temp_df)"
   ]
  },
  {
   "cell_type": "code",
   "execution_count": 23,
   "id": "4e324b1c",
   "metadata": {},
   "outputs": [
    {
     "data": {
      "text/plain": [
       "<seaborn.axisgrid.JointGrid at 0x7f06e50bf8e0>"
      ]
     },
     "execution_count": 23,
     "metadata": {},
     "output_type": "execute_result"
    },
    {
     "data": {
      "image/png": "[encoded data removed]",
      "text/plain": [
       "<Figure size 432x432 with 3 Axes>"
      ]
     },
     "metadata": {
      "needs_background": "light"
     },
     "output_type": "display_data"
    }
   ],
   "source": [
    "sns.jointplot(x=\"overall\", y='count', kind='hist',data=temp_df)"
   ]
  },
  {
   "cell_type": "markdown",
   "id": "f217362f",
   "metadata": {},
   "source": [
    "## Pre-processing the data"
   ]
  },
  {
   "cell_type": "code",
   "execution_count": 24,
   "id": "00c62061",
   "metadata": {},
   "outputs": [],
   "source": [
    "from pyspark.sql.functions import regexp_replace, lower, udf\n",
    "from pyspark.sql.types import ArrayType"
   ]
  },
  {
   "cell_type": "code",
   "execution_count": 25,
   "id": "6d988fff",
   "metadata": {},
   "outputs": [],
   "source": [
    "from pyspark.sql.functions import concat_ws\n",
    "\n",
    "# feature, categories are a list, so just concat all eklements of the list to a string\n",
    "products = products.withColumn(\"categories\", concat_ws(\" \", \"categories\"))\n",
    "products = products.withColumn(\"feature\", concat_ws(\" \", \"feature\"))"
   ]
  },
  {
   "cell_type": "code",
   "execution_count": 26,
   "id": "c22b8d96",
   "metadata": {},
   "outputs": [
    {
     "name": "stderr",
     "output_type": "stream",
     "text": [
      "[Stage 53:>                                                         (0 + 1) / 1]\r"
     ]
    },
    {
     "name": "stdout",
     "output_type": "stream",
     "text": [
      "+----------+--------------------+--------------------+--------------------+-------------+-----+--------------------+------------+\n",
      "| productID|          categories|         description|             feature|main_category|price|         productName|intProductID|\n",
      "+----------+--------------------+--------------------+--------------------+-------------+-----+--------------------+------------+\n",
      "|0205064833|Software Programm...|[System Requireme...|SAME FUNCTIONALIT...|     Software|     |Microsoft FrontPa...|           1|\n",
      "|031025888X|Software Educatio...|[Powered by Pradi...|Guided Tour of th...|     Software|     |NIV Student Bible...|           2|\n",
      "+----------+--------------------+--------------------+--------------------+-------------+-----+--------------------+------------+\n",
      "only showing top 2 rows\n",
      "\n"
     ]
    },
    {
     "name": "stderr",
     "output_type": "stream",
     "text": [
      "                                                                                \r"
     ]
    }
   ],
   "source": [
    "products.show(2)"
   ]
  },
  {
   "cell_type": "markdown",
   "id": "94ee5a2b",
   "metadata": {},
   "source": [
    "## preprocess"
   ]
  },
  {
   "cell_type": "code",
   "execution_count": 27,
   "id": "61f6292e",
   "metadata": {},
   "outputs": [],
   "source": [
    "\n",
    "from pyspark.sql.functions import col, lower, regexp_replace, split\n",
    "\n",
    "def clean_text(c):\n",
    "  c = lower(c)\n",
    "  c = regexp_replace(c, \"<p>\", \"\")\n",
    "  c = regexp_replace(c, \"</p>\", \"\")\n",
    "  c = regexp_replace(c, \"<code>\", \"\")\n",
    "  c = regexp_replace(c, \"</code>\", \"\")\n",
    "  c = regexp_replace(c, \"<strong>\", \"\")\n",
    "  c = regexp_replace(c, \"</strong>\", \"\")\n",
    "  c = regexp_replace(c, \"'ve\", \"\")\n",
    "  c = regexp_replace(c, \"'m\", \"\")\n",
    "  c = regexp_replace(c, \"'s\", \"\")\n",
    "  c = regexp_replace(c, \"'t\", \"\")\n",
    "  c = regexp_replace(c, \"<[^>]+>\", \"\")\n",
    "  c = regexp_replace(c, \"[^a-zA-Z0-9\\\\s]\", \"\")\n",
    "  c = regexp_replace(c, \"(https?\\://)\\S+\", \"\")\n",
    "  c = regexp_replace(c, \"^rt \", \"\")\n",
    "  return c"
   ]
  },
  {
   "cell_type": "code",
   "execution_count": 28,
   "id": "28922882",
   "metadata": {},
   "outputs": [],
   "source": [
    "products = products.withColumn(\"description\",regexp_replace(lower(col(\"description\")[0]),'[^0-9a-z]',' '))\\\n",
    "    .withColumn(\"description\",regexp_replace(lower(col(\"description\")),' +',' '))\\\n",
    "    .withColumn(\"description\",regexp_replace(lower(col(\"description\")),'^+| +& ',''))\n",
    "products = products.where(col('description').isNotNull())\n",
    "\n",
    "products = products.withColumn(\"categories\",regexp_replace(lower(col(\"categories\")),'[^0-9a-z]',' '))\\\n",
    "    .withColumn(\"categories\",regexp_replace(lower(col(\"categories\")),' +',' '))\\\n",
    "    .withColumn(\"categories\",regexp_replace(lower(col(\"categories\")),'^+| +& ',''))\n",
    "\n",
    "products = products.withColumn(\"feature\",regexp_replace(lower(col(\"feature\")),'[^0-9a-z]',' '))\\\n",
    "    .withColumn(\"feature\",regexp_replace(lower(col(\"feature\")),' +',' '))\\\n",
    "    .withColumn(\"feature\",regexp_replace(lower(col(\"feature\")),'^+| +& ',''))\n",
    "\n",
    "products = products.withColumn(\"productName\",regexp_replace(lower(col(\"productName\")),'[^0-9a-z]',' '))\\\n",
    "    .withColumn(\"productName\",regexp_replace(lower(col(\"productName\")),' +',' '))\\\n",
    "    .withColumn(\"productName\",regexp_replace(lower(col(\"productName\")),'^+| +& ',''))"
   ]
  },
  {
   "cell_type": "code",
   "execution_count": 29,
   "id": "93b951c4",
   "metadata": {},
   "outputs": [],
   "source": [
    "from pyspark.sql.functions import concat, col, lit\n",
    "\n",
    "# Finally combine columns\n",
    "products = products.withColumn(\"combinedColumn\",concat(col(\"productName\"), lit(\" \"), col(\"categories\")))\n",
    "products = products.withColumn(\"combinedColumn\",concat(col(\"combinedColumn\"), lit(\" \"), col(\"feature\")))\n",
    "products = products.withColumn(\"combinedColumn\",concat(col(\"combinedColumn\"), lit(\" \"), col(\"description\")))"
   ]
  },
  {
   "cell_type": "markdown",
   "id": "1337786c",
   "metadata": {},
   "source": [
    "## Tokenize combinedColumn into array of strings(tokens)"
   ]
  },
  {
   "cell_type": "code",
   "execution_count": 30,
   "id": "a9469838",
   "metadata": {},
   "outputs": [],
   "source": [
    "\n",
    "from pyspark.ml.feature import Tokenizer, RegexTokenizer\n",
    "\n",
    "tokenizer = Tokenizer(inputCol=\"description\", outputCol=\"tokens\")\n",
    "products = tokenizer.transform(products)"
   ]
  },
  {
   "cell_type": "markdown",
   "id": "896fe006",
   "metadata": {},
   "source": [
    "## Count frequency of each tokens and create vectors"
   ]
  },
  {
   "cell_type": "code",
   "execution_count": 31,
   "id": "382c8ebf",
   "metadata": {},
   "outputs": [
    {
     "name": "stderr",
     "output_type": "stream",
     "text": [
      "                                                                                \r"
     ]
    }
   ],
   "source": [
    "\n",
    "from pyspark.ml.feature import CountVectorizer\n",
    "\n",
    "cv = CountVectorizer(inputCol=\"tokens\", outputCol=\"vecTokens\", minDF=1.0)\n",
    "\n",
    "model = cv.fit(products)\n",
    "products = model.transform(products)"
   ]
  },
  {
   "cell_type": "code",
   "execution_count": 32,
   "id": "fdf2aad3",
   "metadata": {},
   "outputs": [
    {
     "name": "stderr",
     "output_type": "stream",
     "text": [
      "22/05/17 19:18:47 WARN DAGScheduler: Broadcasting large task binary with size 1032.3 KiB\n"
     ]
    },
    {
     "name": "stdout",
     "output_type": "stream",
     "text": [
      "+----------+--------------------+--------------------+--------------------+-------------+-----+--------------------+------------+--------------------+--------------------+--------------------+\n",
      "| productID|          categories|         description|             feature|main_category|price|         productName|intProductID|      combinedColumn|              tokens|           vecTokens|\n",
      "+----------+--------------------+--------------------+--------------------+-------------+-----+--------------------+------------+--------------------+--------------------+--------------------+\n",
      "|0205064833|software programm...|system requiremen...|same functionalit...|     Software|     |microsoft frontpa...|           1|microsoft frontpa...|[system, requirem...|(37563,[0,5,6,7,1...|\n",
      "|031025888X|software educatio...|powered by pradis...|guided tour of th...|     Software|     |niv student bible...|           2|niv student bible...|[powered, by, pra...|(37563,[1,6,18,36...|\n",
      "+----------+--------------------+--------------------+--------------------+-------------+-----+--------------------+------------+--------------------+--------------------+--------------------+\n",
      "only showing top 2 rows\n",
      "\n"
     ]
    },
    {
     "name": "stderr",
     "output_type": "stream",
     "text": [
      "                                                                                \r"
     ]
    }
   ],
   "source": [
    "products.show(2)"
   ]
  },
  {
   "cell_type": "code",
   "execution_count": 33,
   "id": "18f72b06",
   "metadata": {},
   "outputs": [],
   "source": [
    "from pyspark.ml.feature import BucketedRandomProjectionLSH\n",
    "\n",
    "brp = BucketedRandomProjectionLSH(inputCol=\"vecTokens\", outputCol=\"lsh\", bucketLength=2, numHashTables=2)\n",
    "model = brp.fit(products)    "
   ]
  },
  {
   "cell_type": "markdown",
   "id": "c56ab712",
   "metadata": {},
   "source": [
    "## Find recommendations for this product"
   ]
  },
  {
   "cell_type": "code",
   "execution_count": 39,
   "id": "6bb9c72e",
   "metadata": {
    "scrolled": false
   },
   "outputs": [
    {
     "name": "stderr",
     "output_type": "stream",
     "text": [
      "22/05/17 20:39:45 WARN DAGScheduler: Broadcasting large task binary with size 1032.7 KiB\n",
      "22/05/17 20:39:47 WARN DAGScheduler: Broadcasting large task binary with size 1032.7 KiB\n",
      "22/05/17 20:39:50 WARN DAGScheduler: Broadcasting large task binary with size 1032.7 KiB\n",
      "22/05/17 20:39:51 WARN DAGScheduler: Broadcasting large task binary with size 1032.7 KiB\n",
      "                                                                                \r"
     ]
    },
    {
     "data": {
      "text/html": [
       "<table border='1'>\n",
       "<tr><th>productID</th><th>categories</th><th>description</th><th>feature</th><th>main_category</th><th>price</th><th>productName</th><th>intProductID</th><th>combinedColumn</th><th>tokens</th><th>vecTokens</th></tr>\n",
       "<tr><td>B0006I0WP4</td><td>software educatio...</td><td>microsoft office ...</td><td>learn the most po...</td><td>Software</td><td></td><td>mavis beacon teac...</td><td>3000</td><td>mavis beacon teac...</td><td>[microsoft, offic...</td><td>(37563,[1,2,3,5,9...</td></tr>\n",
       "</table>\n"
      ],
      "text/plain": [
       "+----------+--------------------+--------------------+--------------------+-------------+-----+--------------------+------------+--------------------+--------------------+--------------------+\n",
       "| productID|          categories|         description|             feature|main_category|price|         productName|intProductID|      combinedColumn|              tokens|           vecTokens|\n",
       "+----------+--------------------+--------------------+--------------------+-------------+-----+--------------------+------------+--------------------+--------------------+--------------------+\n",
       "|B0006I0WP4|software educatio...|microsoft office ...|learn the most po...|     Software|     |mavis beacon teac...|        3000|mavis beacon teac...|[microsoft, offic...|(37563,[1,2,3,5,9...|\n",
       "+----------+--------------------+--------------------+--------------------+-------------+-----+--------------------+------------+--------------------+--------------------+--------------------+"
      ]
     },
     "execution_count": 39,
     "metadata": {},
     "output_type": "execute_result"
    }
   ],
   "source": [
    "\n",
    "# Product Name: microsoft office\n",
    "\n",
    "prod = products.where(col(\"intProductID\") == 3000)\n",
    "prod"
   ]
  },
  {
   "cell_type": "code",
   "execution_count": 41,
   "id": "e44acc2a",
   "metadata": {},
   "outputs": [
    {
     "name": "stderr",
     "output_type": "stream",
     "text": [
      "[Stage 121:>                                                        (0 + 1) / 1]\r"
     ]
    },
    {
     "name": "stdout",
     "output_type": "stream",
     "text": [
      "+----------+--------------------+\n",
      "| productID|         description|\n",
      "+----------+--------------------+\n",
      "|B0006I0WP4|microsoft office ...|\n",
      "+----------+--------------------+\n",
      "\n"
     ]
    },
    {
     "name": "stderr",
     "output_type": "stream",
     "text": [
      "                                                                                \r"
     ]
    }
   ],
   "source": [
    "prod.select('productID', 'description').show()"
   ]
  },
  {
   "cell_type": "code",
   "execution_count": 40,
   "id": "84d4e0ce",
   "metadata": {
    "scrolled": true
   },
   "outputs": [
    {
     "name": "stderr",
     "output_type": "stream",
     "text": [
      "22/05/17 20:39:56 WARN DAGScheduler: Broadcasting large task binary with size 1695.0 KiB\n",
      "22/05/17 20:39:59 WARN DAGScheduler: Broadcasting large task binary with size 1875.1 KiB\n",
      "22/05/17 20:40:19 WARN DAGScheduler: Broadcasting large task binary with size 1681.4 KiB\n"
     ]
    },
    {
     "name": "stdout",
     "output_type": "stream",
     "text": [
      "+--------------------------------------------------+------------+------------------+\n",
      "|                                recommendedProduct|intProductID|              dist|\n",
      "+--------------------------------------------------+------------+------------------+\n",
      "|                    mavis beacon teaches office xp|        3000|               0.0|\n",
      "|                           learn office essentials|        1980|6.4031242374328485|\n",
      "|simon amp schuster walking with dinosaurs windo...|        1283|               7.0|\n",
      "|                 tune transfer win mac jewel case |        4369| 7.211102550927978|\n",
      "|pc treasures cluefinders 6th grade adventures n...|        8535| 7.280109889280518|\n",
      "+--------------------------------------------------+------------+------------------+\n",
      "\n"
     ]
    },
    {
     "name": "stderr",
     "output_type": "stream",
     "text": [
      "22/05/17 20:40:20 WARN DAGScheduler: Broadcasting large task binary with size 1655.6 KiB\n",
      "                                                                                \r"
     ]
    }
   ],
   "source": [
    "# Find and display recommendations\n",
    "model.approxSimilarityJoin(products, prod, 10, distCol=\"dist\")\\\n",
    "    .select(col(\"datasetA.productName\").alias(\"recommendedProduct\"),col(\"datasetA.intProductID\").alias(\"intProductID\"),col(\"dist\"))\\\n",
    "    .sort(\"dist\").limit(5).show(truncate=50)\n"
   ]
  },
  {
   "cell_type": "code",
   "execution_count": null,
   "id": "1f2a7bb7",
   "metadata": {},
   "outputs": [],
   "source": []
  }
 ],
 "metadata": {
  "kernelspec": {
   "display_name": "Python [conda env:bigdata]",
   "language": "python",
   "name": "conda-env-bigdata-py"
  },
  "language_info": {
   "codemirror_mode": {
    "name": "ipython",
    "version": 3
   },
   "file_extension": ".py",
   "mimetype": "text/x-python",
   "name": "python",
   "nbconvert_exporter": "python",
   "pygments_lexer": "ipython3",
   "version": "3.8.13"
  }
 },
 "nbformat": 4,
 "nbformat_minor": 5
}
